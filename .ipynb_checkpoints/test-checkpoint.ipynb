{
 "cells": [
  {
   "cell_type": "code",
   "execution_count": 1,
   "metadata": {},
   "outputs": [],
   "source": [
    "import model\n",
    "import torch\n",
    "from dataset import FaceData\n",
    "\n",
    "from torch.utils.data import DataLoader\n",
    "from torchvision.utils import save_image\n",
    "from tqdm import tqdm\n",
    "\n",
    "import matplotlib.pyplot as plt\n",
    "import numpy as np\n",
    "from PIL import Image\n",
    "import torchvision.transforms as T"
   ]
  },
  {
   "cell_type": "code",
   "execution_count": 2,
   "metadata": {},
   "outputs": [
    {
     "data": {
      "text/plain": [
       "Generator(\n",
       "  (conv1): Conv2d(3, 64, kernel_size=(9, 9), stride=(1, 1), padding=(4, 4))\n",
       "  (B_conv): Conv2d(64, 64, kernel_size=(3, 3), stride=(1, 1), padding=(1, 1))\n",
       "  (B_bn): BatchNorm2d(64, eps=1e-05, momentum=0.1, affine=True, track_running_stats=True)\n",
       "  (P_conv): Conv2d(64, 256, kernel_size=(3, 3), stride=(1, 1), padding=(1, 1))\n",
       "  (pix_shuffle): PixelShuffle(upscale_factor=2)\n",
       "  (conv2): Conv2d(64, 3, kernel_size=(9, 9), stride=(1, 1), padding=(4, 4))\n",
       ")"
      ]
     },
     "execution_count": 2,
     "metadata": {},
     "output_type": "execute_result"
    }
   ],
   "source": [
    "get_G = model.Generator()\n",
    "get_G"
   ]
  },
  {
   "cell_type": "code",
   "execution_count": 3,
   "metadata": {},
   "outputs": [
    {
     "ename": "RuntimeError",
     "evalue": "Expected self.is_cuda() to be true, but got false.  (Could this error message be improved?  If so, please report an enhancement request to PyTorch.)",
     "output_type": "error",
     "traceback": [
      "\u001b[1;31m---------------------------------------------------------------------------\u001b[0m",
      "\u001b[1;31mRuntimeError\u001b[0m                              Traceback (most recent call last)",
      "\u001b[1;32m<ipython-input-3-6d329b10648b>\u001b[0m in \u001b[0;36m<module>\u001b[1;34m\u001b[0m\n\u001b[0;32m      1\u001b[0m \u001b[0mx\u001b[0m \u001b[1;33m=\u001b[0m \u001b[0mtorch\u001b[0m\u001b[1;33m.\u001b[0m\u001b[0mrandn\u001b[0m\u001b[1;33m(\u001b[0m\u001b[1;36m10\u001b[0m\u001b[1;33m,\u001b[0m \u001b[1;36m3\u001b[0m\u001b[1;33m,\u001b[0m \u001b[1;36m16\u001b[0m\u001b[1;33m,\u001b[0m \u001b[1;36m16\u001b[0m\u001b[1;33m)\u001b[0m\u001b[1;33m\u001b[0m\u001b[1;33m\u001b[0m\u001b[0m\n\u001b[1;32m----> 2\u001b[1;33m \u001b[0mout_G\u001b[0m \u001b[1;33m=\u001b[0m \u001b[0mget_G\u001b[0m\u001b[1;33m.\u001b[0m\u001b[0mforward\u001b[0m\u001b[1;33m(\u001b[0m\u001b[0mx\u001b[0m\u001b[1;33m)\u001b[0m\u001b[1;33m\u001b[0m\u001b[1;33m\u001b[0m\u001b[0m\n\u001b[0m",
      "\u001b[1;32m~\\Desktop\\SRStudy\\SRGAN\\model.py\u001b[0m in \u001b[0;36mforward\u001b[1;34m(self, x)\u001b[0m\n\u001b[0;32m     22\u001b[0m     \u001b[1;32mdef\u001b[0m \u001b[0mforward\u001b[0m\u001b[1;33m(\u001b[0m\u001b[0mself\u001b[0m\u001b[1;33m,\u001b[0m \u001b[0mx\u001b[0m\u001b[1;33m)\u001b[0m\u001b[1;33m:\u001b[0m\u001b[1;33m\u001b[0m\u001b[1;33m\u001b[0m\u001b[0m\n\u001b[0;32m     23\u001b[0m         \u001b[0mx\u001b[0m \u001b[1;33m=\u001b[0m \u001b[0mself\u001b[0m\u001b[1;33m.\u001b[0m\u001b[0mconv1\u001b[0m\u001b[1;33m(\u001b[0m\u001b[0mx\u001b[0m\u001b[1;33m)\u001b[0m\u001b[1;33m\u001b[0m\u001b[1;33m\u001b[0m\u001b[0m\n\u001b[1;32m---> 24\u001b[1;33m         \u001b[0mx\u001b[0m \u001b[1;33m=\u001b[0m \u001b[0mnn\u001b[0m\u001b[1;33m.\u001b[0m\u001b[0mPReLU\u001b[0m\u001b[1;33m(\u001b[0m\u001b[1;33m)\u001b[0m\u001b[1;33m.\u001b[0m\u001b[0mcuda\u001b[0m\u001b[1;33m(\u001b[0m\u001b[1;33m)\u001b[0m\u001b[1;33m(\u001b[0m\u001b[0mx\u001b[0m\u001b[1;33m)\u001b[0m\u001b[1;33m\u001b[0m\u001b[1;33m\u001b[0m\u001b[0m\n\u001b[0m\u001b[0;32m     25\u001b[0m         \u001b[0mfx\u001b[0m \u001b[1;33m=\u001b[0m \u001b[0mx\u001b[0m\u001b[1;33m\u001b[0m\u001b[1;33m\u001b[0m\u001b[0m\n\u001b[0;32m     26\u001b[0m         \u001b[0mtx\u001b[0m \u001b[1;33m=\u001b[0m \u001b[0mx\u001b[0m\u001b[1;33m\u001b[0m\u001b[1;33m\u001b[0m\u001b[0m\n",
      "\u001b[1;32m~\\anaconda3\\envs\\torch37\\lib\\site-packages\\torch\\nn\\modules\\module.py\u001b[0m in \u001b[0;36m_call_impl\u001b[1;34m(self, *input, **kwargs)\u001b[0m\n\u001b[0;32m    720\u001b[0m             \u001b[0mresult\u001b[0m \u001b[1;33m=\u001b[0m \u001b[0mself\u001b[0m\u001b[1;33m.\u001b[0m\u001b[0m_slow_forward\u001b[0m\u001b[1;33m(\u001b[0m\u001b[1;33m*\u001b[0m\u001b[0minput\u001b[0m\u001b[1;33m,\u001b[0m \u001b[1;33m**\u001b[0m\u001b[0mkwargs\u001b[0m\u001b[1;33m)\u001b[0m\u001b[1;33m\u001b[0m\u001b[1;33m\u001b[0m\u001b[0m\n\u001b[0;32m    721\u001b[0m         \u001b[1;32melse\u001b[0m\u001b[1;33m:\u001b[0m\u001b[1;33m\u001b[0m\u001b[1;33m\u001b[0m\u001b[0m\n\u001b[1;32m--> 722\u001b[1;33m             \u001b[0mresult\u001b[0m \u001b[1;33m=\u001b[0m \u001b[0mself\u001b[0m\u001b[1;33m.\u001b[0m\u001b[0mforward\u001b[0m\u001b[1;33m(\u001b[0m\u001b[1;33m*\u001b[0m\u001b[0minput\u001b[0m\u001b[1;33m,\u001b[0m \u001b[1;33m**\u001b[0m\u001b[0mkwargs\u001b[0m\u001b[1;33m)\u001b[0m\u001b[1;33m\u001b[0m\u001b[1;33m\u001b[0m\u001b[0m\n\u001b[0m\u001b[0;32m    723\u001b[0m         for hook in itertools.chain(\n\u001b[0;32m    724\u001b[0m                 \u001b[0m_global_forward_hooks\u001b[0m\u001b[1;33m.\u001b[0m\u001b[0mvalues\u001b[0m\u001b[1;33m(\u001b[0m\u001b[1;33m)\u001b[0m\u001b[1;33m,\u001b[0m\u001b[1;33m\u001b[0m\u001b[1;33m\u001b[0m\u001b[0m\n",
      "\u001b[1;32m~\\anaconda3\\envs\\torch37\\lib\\site-packages\\torch\\nn\\modules\\activation.py\u001b[0m in \u001b[0;36mforward\u001b[1;34m(self, input)\u001b[0m\n\u001b[0;32m    986\u001b[0m \u001b[1;33m\u001b[0m\u001b[0m\n\u001b[0;32m    987\u001b[0m     \u001b[1;32mdef\u001b[0m \u001b[0mforward\u001b[0m\u001b[1;33m(\u001b[0m\u001b[0mself\u001b[0m\u001b[1;33m,\u001b[0m \u001b[0minput\u001b[0m\u001b[1;33m:\u001b[0m \u001b[0mTensor\u001b[0m\u001b[1;33m)\u001b[0m \u001b[1;33m->\u001b[0m \u001b[0mTensor\u001b[0m\u001b[1;33m:\u001b[0m\u001b[1;33m\u001b[0m\u001b[1;33m\u001b[0m\u001b[0m\n\u001b[1;32m--> 988\u001b[1;33m         \u001b[1;32mreturn\u001b[0m \u001b[0mF\u001b[0m\u001b[1;33m.\u001b[0m\u001b[0mprelu\u001b[0m\u001b[1;33m(\u001b[0m\u001b[0minput\u001b[0m\u001b[1;33m,\u001b[0m \u001b[0mself\u001b[0m\u001b[1;33m.\u001b[0m\u001b[0mweight\u001b[0m\u001b[1;33m)\u001b[0m\u001b[1;33m\u001b[0m\u001b[1;33m\u001b[0m\u001b[0m\n\u001b[0m\u001b[0;32m    989\u001b[0m \u001b[1;33m\u001b[0m\u001b[0m\n\u001b[0;32m    990\u001b[0m     \u001b[1;32mdef\u001b[0m \u001b[0mextra_repr\u001b[0m\u001b[1;33m(\u001b[0m\u001b[0mself\u001b[0m\u001b[1;33m)\u001b[0m \u001b[1;33m->\u001b[0m \u001b[0mstr\u001b[0m\u001b[1;33m:\u001b[0m\u001b[1;33m\u001b[0m\u001b[1;33m\u001b[0m\u001b[0m\n",
      "\u001b[1;32m~\\anaconda3\\envs\\torch37\\lib\\site-packages\\torch\\nn\\functional.py\u001b[0m in \u001b[0;36mprelu\u001b[1;34m(input, weight)\u001b[0m\n\u001b[0;32m   1317\u001b[0m         \u001b[1;32mif\u001b[0m \u001b[0mtype\u001b[0m\u001b[1;33m(\u001b[0m\u001b[0minput\u001b[0m\u001b[1;33m)\u001b[0m \u001b[1;32mis\u001b[0m \u001b[1;32mnot\u001b[0m \u001b[0mTensor\u001b[0m \u001b[1;32mand\u001b[0m \u001b[0mhas_torch_function\u001b[0m\u001b[1;33m(\u001b[0m\u001b[1;33m(\u001b[0m\u001b[0minput\u001b[0m\u001b[1;33m,\u001b[0m\u001b[1;33m)\u001b[0m\u001b[1;33m)\u001b[0m\u001b[1;33m:\u001b[0m\u001b[1;33m\u001b[0m\u001b[1;33m\u001b[0m\u001b[0m\n\u001b[0;32m   1318\u001b[0m             \u001b[1;32mreturn\u001b[0m \u001b[0mhandle_torch_function\u001b[0m\u001b[1;33m(\u001b[0m\u001b[0mprelu\u001b[0m\u001b[1;33m,\u001b[0m \u001b[1;33m(\u001b[0m\u001b[0minput\u001b[0m\u001b[1;33m,\u001b[0m\u001b[1;33m)\u001b[0m\u001b[1;33m,\u001b[0m \u001b[0minput\u001b[0m\u001b[1;33m,\u001b[0m \u001b[0mweight\u001b[0m\u001b[1;33m)\u001b[0m\u001b[1;33m\u001b[0m\u001b[1;33m\u001b[0m\u001b[0m\n\u001b[1;32m-> 1319\u001b[1;33m     \u001b[1;32mreturn\u001b[0m \u001b[0mtorch\u001b[0m\u001b[1;33m.\u001b[0m\u001b[0mprelu\u001b[0m\u001b[1;33m(\u001b[0m\u001b[0minput\u001b[0m\u001b[1;33m,\u001b[0m \u001b[0mweight\u001b[0m\u001b[1;33m)\u001b[0m\u001b[1;33m\u001b[0m\u001b[1;33m\u001b[0m\u001b[0m\n\u001b[0m\u001b[0;32m   1320\u001b[0m \u001b[1;33m\u001b[0m\u001b[0m\n\u001b[0;32m   1321\u001b[0m \u001b[1;33m\u001b[0m\u001b[0m\n",
      "\u001b[1;31mRuntimeError\u001b[0m: Expected self.is_cuda() to be true, but got false.  (Could this error message be improved?  If so, please report an enhancement request to PyTorch.)"
     ]
    }
   ],
   "source": [
    "x = torch.randn(10, 3, 16, 16)\n",
    "out_G = get_G.forward(x)"
   ]
  },
  {
   "cell_type": "code",
   "execution_count": null,
   "metadata": {},
   "outputs": [],
   "source": [
    "out_G.size()"
   ]
  },
  {
   "cell_type": "code",
   "execution_count": null,
   "metadata": {},
   "outputs": [],
   "source": [
    "get_D = model.Discriminator()\n",
    "get_D"
   ]
  },
  {
   "cell_type": "code",
   "execution_count": null,
   "metadata": {},
   "outputs": [],
   "source": [
    "out_D = get_D.forward(out_G)"
   ]
  },
  {
   "cell_type": "code",
   "execution_count": null,
   "metadata": {},
   "outputs": [],
   "source": [
    "out_D.size()"
   ]
  },
  {
   "cell_type": "markdown",
   "metadata": {},
   "source": [
    "# Cuda Test"
   ]
  },
  {
   "cell_type": "code",
   "execution_count": null,
   "metadata": {},
   "outputs": [],
   "source": [
    "torch.cuda.is_available()"
   ]
  },
  {
   "cell_type": "code",
   "execution_count": null,
   "metadata": {},
   "outputs": [],
   "source": [
    "cuda_G = model.Generator().cuda()"
   ]
  },
  {
   "cell_type": "code",
   "execution_count": null,
   "metadata": {},
   "outputs": [],
   "source": [
    "x = torch.randn(10, 3, 16, 16)\n",
    "cuda_G.forward(x.cuda())"
   ]
  },
  {
   "cell_type": "code",
   "execution_count": 18,
   "metadata": {},
   "outputs": [
    {
     "data": {
      "text/plain": [
       "tensor([[[[-0.8834, -0.2019,  0.4771,  ..., -0.3044, -2.0379, -0.0177],\n",
       "          [-0.7859,  1.6490, -0.7672,  ...,  0.3789,  0.4741, -1.9658],\n",
       "          [ 1.5779, -0.0512,  1.5084,  ...,  0.9404,  1.0207, -1.9590],\n",
       "          ...,\n",
       "          [-0.3660,  0.2598,  0.5243,  ...,  0.5482,  0.0447, -1.0309],\n",
       "          [-0.1720,  0.8441,  0.9164,  ...,  0.6822, -0.4311,  0.1667],\n",
       "          [-0.2392, -0.3822,  0.4599,  ...,  0.7598, -0.7626,  0.0797]],\n",
       "\n",
       "         [[-1.3848,  1.6325,  1.8022,  ...,  1.6560, -1.0282, -0.8582],\n",
       "          [ 0.0095,  0.0461,  0.4068,  ..., -1.0619, -0.1672, -1.9165],\n",
       "          [ 1.8367, -0.0307,  0.0786,  ..., -0.7653,  0.0427,  1.5539],\n",
       "          ...,\n",
       "          [ 0.0841, -0.1544,  1.2288,  ...,  0.3074, -0.2219, -1.6331],\n",
       "          [-0.9052,  0.8026,  0.7649,  ..., -1.9568, -1.5884,  0.3369],\n",
       "          [-0.8630,  0.4551, -1.0344,  ..., -1.1015,  0.7460, -1.0767]],\n",
       "\n",
       "         [[ 0.4301,  0.3218, -0.1399,  ...,  0.2152, -1.2421, -0.4781],\n",
       "          [-0.2525,  0.1115,  0.3268,  ...,  1.0378, -0.1082,  0.3046],\n",
       "          [ 0.8078, -0.0788, -0.5942,  ...,  0.1704, -1.1242,  1.4747],\n",
       "          ...,\n",
       "          [-0.5662,  0.2081, -0.3343,  ...,  0.7692,  0.5904,  0.1703],\n",
       "          [-0.8308,  0.4339, -1.7523,  ..., -0.1709,  0.0791,  1.1807],\n",
       "          [-1.4271, -0.3100,  0.7810,  ..., -2.1004, -0.1963, -0.2184]]],\n",
       "\n",
       "\n",
       "        [[[ 1.1770,  1.4376, -0.2955,  ...,  0.3609, -0.4731,  0.7635],\n",
       "          [-0.0759, -1.1637,  1.0684,  ..., -1.5173, -0.4970,  2.2047],\n",
       "          [ 0.0338,  0.5868,  1.2646,  ...,  2.0195,  1.5549, -0.6858],\n",
       "          ...,\n",
       "          [ 0.7983,  0.3516,  1.0532,  ...,  0.1735, -1.1168, -2.3665],\n",
       "          [-0.6432, -0.4043, -0.0167,  ..., -0.2150,  0.0838,  1.5073],\n",
       "          [-0.4518, -0.6593,  0.0451,  ..., -1.1236, -1.2367,  0.2648]],\n",
       "\n",
       "         [[-0.7452, -0.1098,  1.4144,  ...,  1.7920, -1.0064,  0.7047],\n",
       "          [-0.7269,  1.5293, -1.6450,  ..., -0.7535,  3.3449, -1.2492],\n",
       "          [ 1.0228, -1.3283,  0.7786,  ...,  0.8450, -0.4237, -0.0240],\n",
       "          ...,\n",
       "          [ 1.6667,  0.3932, -0.0746,  ..., -0.9030, -1.5573, -0.4386],\n",
       "          [ 1.8353,  1.5484,  0.8539,  ..., -0.4693,  0.1106, -0.3412],\n",
       "          [ 0.3019, -1.4008,  2.0984,  ..., -0.5941,  2.1825,  1.2363]],\n",
       "\n",
       "         [[-1.5639,  0.5403,  1.8340,  ..., -0.8632, -0.6327,  1.1352],\n",
       "          [-0.4649,  0.2613, -0.8240,  ...,  0.1775, -1.3709,  0.6588],\n",
       "          [-1.1739, -0.2845, -0.0772,  ...,  0.1412, -0.8913, -0.0829],\n",
       "          ...,\n",
       "          [ 0.3914, -0.3545,  0.5810,  ...,  0.2214, -1.1719, -0.6956],\n",
       "          [ 0.0287, -0.2345, -0.9298,  ..., -0.1550,  1.8034, -0.0562],\n",
       "          [ 0.4639,  0.6239, -0.1058,  ...,  0.3519,  0.9405, -0.3104]]],\n",
       "\n",
       "\n",
       "        [[[ 0.2624, -0.9020, -0.8000,  ...,  0.9194,  0.5308,  1.8265],\n",
       "          [ 0.7209, -0.3568, -0.5098,  ..., -0.0788, -0.9435,  1.0462],\n",
       "          [ 0.6143,  1.0207, -1.0363,  ..., -0.9884,  0.6324,  0.7753],\n",
       "          ...,\n",
       "          [-0.0742, -0.3455,  0.2113,  ..., -0.3138, -0.4390,  1.7670],\n",
       "          [-0.9423, -1.3245, -0.2673,  ...,  1.1936,  1.0915, -0.3390],\n",
       "          [ 0.2321,  1.6130,  0.5069,  ..., -1.5650, -0.6179,  2.0275]],\n",
       "\n",
       "         [[ 0.0527, -1.2935, -0.3238,  ...,  1.2897, -2.1018, -0.1506],\n",
       "          [ 1.3756,  0.1300, -0.3186,  ..., -0.1895, -2.1101,  0.1526],\n",
       "          [-0.3562,  0.6026,  0.2132,  ..., -0.3295, -0.5050,  0.8866],\n",
       "          ...,\n",
       "          [ 0.6104, -0.9246,  0.7913,  ...,  0.1205,  0.5007,  1.3363],\n",
       "          [-0.6419,  0.0605, -0.4666,  ...,  1.0121, -0.2189,  1.8980],\n",
       "          [-0.3763, -0.9387, -1.3884,  ..., -0.1270, -0.2929, -1.4440]],\n",
       "\n",
       "         [[-2.1583, -0.3056,  1.1507,  ...,  0.7210,  0.2019, -0.1598],\n",
       "          [ 0.4444, -0.7352, -0.9661,  ...,  2.7127,  1.5548, -0.4272],\n",
       "          [ 0.6156, -1.0545, -1.3883,  ...,  1.9373, -0.4008,  0.5725],\n",
       "          ...,\n",
       "          [-1.4633,  0.0625, -0.7190,  ..., -0.9267, -0.1894,  0.8007],\n",
       "          [-0.2960,  2.0007,  0.8711,  ..., -0.2372,  0.2111, -1.1787],\n",
       "          [-0.0323, -0.5964, -0.5320,  ...,  0.0351, -0.0732, -0.6592]]],\n",
       "\n",
       "\n",
       "        ...,\n",
       "\n",
       "\n",
       "        [[[-0.0968,  0.0939, -0.9604,  ..., -0.5794, -0.4027,  1.2451],\n",
       "          [ 0.1455,  1.5219, -1.2966,  ..., -2.0690,  0.2694,  0.8965],\n",
       "          [-0.9118, -2.1067, -0.1925,  ...,  0.1551, -0.5121,  0.1415],\n",
       "          ...,\n",
       "          [-0.6061,  0.5351,  0.4134,  ..., -0.6886,  0.7955,  1.0059],\n",
       "          [-0.4378, -1.2909, -1.4375,  ..., -3.1189,  1.2373, -1.1053],\n",
       "          [ 0.4691, -0.2094,  2.2610,  ...,  0.6586,  0.6925, -0.4752]],\n",
       "\n",
       "         [[ 0.7829, -0.5120,  0.0216,  ...,  0.0836, -0.9432, -0.1407],\n",
       "          [ 0.3231,  1.3180, -1.3697,  ...,  1.0453,  0.8223, -0.2647],\n",
       "          [ 0.5225,  0.0897, -0.7038,  ..., -0.3309,  0.4293, -0.5005],\n",
       "          ...,\n",
       "          [ 0.1511, -1.8727, -0.4739,  ..., -0.9100,  1.2336, -1.1244],\n",
       "          [ 0.3358, -1.3024, -0.9387,  ..., -0.0564, -0.6149,  0.2193],\n",
       "          [-2.3967, -0.2814,  0.3686,  ..., -0.4985,  0.5227, -0.5947]],\n",
       "\n",
       "         [[-0.4289,  0.1908, -0.1414,  ...,  1.9337, -0.3653,  1.3413],\n",
       "          [-0.7658,  2.3915,  1.3885,  ...,  1.2914, -0.2778, -1.3094],\n",
       "          [ 0.6623, -1.4470,  0.2650,  ..., -2.5965,  1.2175, -0.5497],\n",
       "          ...,\n",
       "          [ 0.0266, -0.0292, -2.3560,  ..., -0.2889,  2.1869,  1.7347],\n",
       "          [-0.0517,  1.3047, -0.4331,  ...,  0.1085,  0.4625, -0.6209],\n",
       "          [ 1.3299,  0.0428, -1.0775,  ..., -0.9437, -1.1150,  1.1887]]],\n",
       "\n",
       "\n",
       "        [[[-0.9044,  0.9733,  1.3907,  ...,  0.1038,  0.2113,  1.3181],\n",
       "          [ 0.1865, -1.4191, -0.9071,  ...,  0.6699,  0.4310,  0.0720],\n",
       "          [ 0.1071,  0.0428, -2.0935,  ..., -0.2452,  0.1043,  0.4224],\n",
       "          ...,\n",
       "          [-0.0447,  0.0123,  0.4211,  ..., -1.5761,  0.5823,  0.1792],\n",
       "          [ 0.4947,  1.3183, -0.4707,  ..., -1.9310,  1.4814,  0.9767],\n",
       "          [ 0.9907, -0.4399,  0.6097,  ..., -1.1346,  0.2087, -0.2028]],\n",
       "\n",
       "         [[-1.6382,  1.0787, -1.3449,  ...,  0.0459,  0.4790,  0.5984],\n",
       "          [ 0.6814, -1.3156, -0.8967,  ...,  2.3381, -1.3922,  0.5703],\n",
       "          [-0.2208, -1.4296,  0.1533,  ...,  0.6963, -1.5963, -0.8170],\n",
       "          ...,\n",
       "          [ 0.7698, -0.8991, -1.2064,  ..., -1.8271,  1.1294, -1.5315],\n",
       "          [ 0.8699, -2.7137,  1.1132,  ..., -2.5364, -1.3677, -0.6228],\n",
       "          [ 1.7000,  0.2705,  0.6273,  ..., -2.0484,  0.8302, -0.8806]],\n",
       "\n",
       "         [[ 0.7686, -0.1670,  2.0378,  ..., -0.8178, -2.3238, -0.7497],\n",
       "          [-1.8734,  0.2882,  0.6920,  ..., -0.4473, -0.5705, -0.4796],\n",
       "          [-0.2239, -0.9204,  0.9369,  ..., -2.2240, -0.6535,  1.0593],\n",
       "          ...,\n",
       "          [ 0.9017,  0.6350,  0.4483,  ..., -0.7520,  1.3168, -0.3756],\n",
       "          [ 0.9012, -0.0500, -0.1842,  ..., -0.3489, -2.0020,  2.1272],\n",
       "          [-0.4828, -1.8477,  0.4486,  ..., -0.2177,  0.9351,  0.9882]]],\n",
       "\n",
       "\n",
       "        [[[-0.4665, -0.1316,  2.0803,  ..., -1.1071,  0.6428,  1.2212],\n",
       "          [ 0.0774, -1.1920,  1.6843,  ...,  0.7087, -0.2595, -0.0588],\n",
       "          [ 0.5635,  0.3765,  0.1820,  ..., -0.3562, -0.8138, -0.2038],\n",
       "          ...,\n",
       "          [ 0.2296, -1.4687, -2.3816,  ...,  0.1586,  0.5552,  0.5946],\n",
       "          [ 0.6375, -1.2102,  0.2950,  ..., -1.0371,  0.2207, -0.3840],\n",
       "          [ 0.3666, -0.2936,  0.2968,  ..., -0.9623, -0.9716,  0.8858]],\n",
       "\n",
       "         [[-0.5313, -0.5874,  0.9679,  ..., -0.3654,  1.0585,  0.2890],\n",
       "          [-1.1755, -1.5214, -0.4478,  ...,  0.8223,  2.1200,  0.6778],\n",
       "          [ 0.6730,  0.3907,  0.1096,  ..., -0.0276,  0.4556, -1.2633],\n",
       "          ...,\n",
       "          [-1.1338,  0.0976, -0.9484,  ..., -1.5119,  1.3290, -0.7373],\n",
       "          [ 1.3526,  0.1883, -1.4173,  ..., -0.6232, -0.0430, -2.5444],\n",
       "          [ 0.7169, -0.2144,  0.7682,  ...,  0.5324, -0.0489, -2.9167]],\n",
       "\n",
       "         [[ 0.5607,  1.5242,  0.7401,  ...,  0.1672,  2.1091,  0.6987],\n",
       "          [-0.3684,  0.4281, -0.5431,  ...,  0.2865, -1.9472,  1.6194],\n",
       "          [ 1.9702,  0.9941,  0.3831,  ...,  1.1990, -0.9054, -0.8939],\n",
       "          ...,\n",
       "          [ 0.9739, -1.6493,  1.2991,  ..., -1.1440,  1.2770, -0.1556],\n",
       "          [-0.9436,  0.7873, -0.1327,  ..., -1.4669, -0.0377, -0.6523],\n",
       "          [-0.6438, -1.7065,  0.9945,  ...,  0.1552,  0.5009, -1.7783]]]])"
      ]
     },
     "execution_count": 18,
     "metadata": {},
     "output_type": "execute_result"
    }
   ],
   "source": [
    "x = torch.randn(10,3,16,16)\n",
    "x"
   ]
  },
  {
   "cell_type": "code",
   "execution_count": 29,
   "metadata": {},
   "outputs": [
    {
     "data": {
      "text/plain": [
       "float"
      ]
     },
     "execution_count": 29,
     "metadata": {},
     "output_type": "execute_result"
    }
   ],
   "source": [
    "type(torch.sum(x).item())"
   ]
  },
  {
   "cell_type": "code",
   "execution_count": null,
   "metadata": {},
   "outputs": [],
   "source": [
    "import torch.nn as nn"
   ]
  },
  {
   "cell_type": "code",
   "execution_count": null,
   "metadata": {},
   "outputs": [],
   "source": [
    "nn.PReLU().cuda()(x.cuda())"
   ]
  },
  {
   "cell_type": "code",
   "execution_count": null,
   "metadata": {},
   "outputs": [],
   "source": []
  },
  {
   "cell_type": "markdown",
   "metadata": {},
   "source": [
    "# Face Data Load"
   ]
  },
  {
   "cell_type": "code",
   "execution_count": 14,
   "metadata": {},
   "outputs": [],
   "source": [
    "batch_size = 8\n",
    "dataset = FaceData('train')"
   ]
  },
  {
   "cell_type": "code",
   "execution_count": 15,
   "metadata": {},
   "outputs": [],
   "source": [
    "data_loader = DataLoader(dataset, batch_size, shuffle=True, num_workers=0, pin_memory=True, drop_last=True)"
   ]
  },
  {
   "cell_type": "code",
   "execution_count": 16,
   "metadata": {},
   "outputs": [
    {
     "data": {
      "text/plain": [
       "1250"
      ]
     },
     "execution_count": 16,
     "metadata": {},
     "output_type": "execute_result"
    }
   ],
   "source": [
    "len(data_loader)"
   ]
  },
  {
   "cell_type": "code",
   "execution_count": null,
   "metadata": {},
   "outputs": [],
   "source": [
    "x, y = iter(data_loader).next()"
   ]
  },
  {
   "cell_type": "code",
   "execution_count": null,
   "metadata": {},
   "outputs": [],
   "source": [
    "x.size()"
   ]
  },
  {
   "cell_type": "code",
   "execution_count": null,
   "metadata": {},
   "outputs": [],
   "source": [
    "y.size()"
   ]
  },
  {
   "cell_type": "code",
   "execution_count": null,
   "metadata": {},
   "outputs": [],
   "source": [
    "np"
   ]
  },
  {
   "cell_type": "code",
   "execution_count": null,
   "metadata": {},
   "outputs": [],
   "source": [
    "x.permute(0,2,3,1).shape"
   ]
  },
  {
   "cell_type": "code",
   "execution_count": null,
   "metadata": {},
   "outputs": [],
   "source": [
    "x.size()"
   ]
  },
  {
   "cell_type": "code",
   "execution_count": null,
   "metadata": {
    "tags": []
   },
   "outputs": [],
   "source": [
    "plt.imshow(x.permute(0,2,3,1)[0])"
   ]
  },
  {
   "cell_type": "code",
   "execution_count": null,
   "metadata": {},
   "outputs": [],
   "source": [
    "img = Image.open(\"./trainData/input/0.png\").convert(\"RGB\")"
   ]
  },
  {
   "cell_type": "code",
   "execution_count": null,
   "metadata": {},
   "outputs": [],
   "source": [
    "plt.imshow(np.array(img))"
   ]
  },
  {
   "cell_type": "code",
   "execution_count": null,
   "metadata": {},
   "outputs": [],
   "source": [
    "trans = T.Compose([\n",
    "            T.ToTensor(),\n",
    "            T.Normalize((0.5, 0.5, 0.5), (0.5, 0.5, 0.5))\n",
    "        ])"
   ]
  },
  {
   "cell_type": "code",
   "execution_count": null,
   "metadata": {
    "tags": []
   },
   "outputs": [],
   "source": [
    "trans_img = trans(img)\n",
    "print(trans_img.size())\n",
    "print(trans_img)"
   ]
  },
  {
   "cell_type": "code",
   "execution_count": null,
   "metadata": {
    "tags": []
   },
   "outputs": [],
   "source": [
    "plt.imshow(np.ceil(np.transpose((trans_img/2+0.5).numpy(), (1,2,0))*255).astype(int))"
   ]
  },
  {
   "cell_type": "code",
   "execution_count": null,
   "metadata": {
    "tags": []
   },
   "outputs": [],
   "source": [
    "plt.imshow(np.transpose((trans_img/2+0.5).numpy(), (1,2,0)))"
   ]
  },
  {
   "cell_type": "code",
   "execution_count": null,
   "metadata": {
    "tags": []
   },
   "outputs": [],
   "source": [
    "plt.imshow(trans_img.permute(1,2,0))"
   ]
  },
  {
   "cell_type": "code",
   "execution_count": null,
   "metadata": {},
   "outputs": [],
   "source": [
    "def denorm(x):\n",
    "    out = (x + 1) / 2\n",
    "    return out.clamp(0, 1)"
   ]
  },
  {
   "cell_type": "code",
   "execution_count": null,
   "metadata": {},
   "outputs": [],
   "source": [
    "denorm(trans(img))"
   ]
  },
  {
   "cell_type": "code",
   "execution_count": null,
   "metadata": {},
   "outputs": [],
   "source": [
    "save_image(denorm(trans(img)), './sample.png')"
   ]
  },
  {
   "cell_type": "markdown",
   "metadata": {},
   "source": [
    "# VGG Model TEST"
   ]
  },
  {
   "cell_type": "code",
   "execution_count": null,
   "metadata": {},
   "outputs": [],
   "source": []
  }
 ],
 "metadata": {
  "kernelspec": {
   "display_name": "Python 3",
   "language": "python",
   "name": "python3"
  },
  "language_info": {
   "codemirror_mode": {
    "name": "ipython",
    "version": 3
   },
   "file_extension": ".py",
   "mimetype": "text/x-python",
   "name": "python",
   "nbconvert_exporter": "python",
   "pygments_lexer": "ipython3",
   "version": "3.7.9"
  }
 },
 "nbformat": 4,
 "nbformat_minor": 2
}
