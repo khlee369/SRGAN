{
 "metadata": {
  "language_info": {
   "codemirror_mode": {
    "name": "ipython",
    "version": 3
   },
   "file_extension": ".py",
   "mimetype": "text/x-python",
   "name": "python",
   "nbconvert_exporter": "python",
   "pygments_lexer": "ipython3",
   "version": "3.7.9-final"
  },
  "orig_nbformat": 2,
  "kernelspec": {
   "name": "Python 3.7.9 64-bit ('torch37': conda)",
   "display_name": "Python 3.7.9 64-bit ('torch37': conda)",
   "metadata": {
    "interpreter": {
     "hash": "eb34fccc6ba67fdb47cb3b9a12403d9a23606dd455f10a997457309feb628d2b"
    }
   }
  }
 },
 "nbformat": 4,
 "nbformat_minor": 2,
 "cells": [
  {
   "cell_type": "code",
   "execution_count": 1,
   "metadata": {},
   "outputs": [],
   "source": [
    "import model\n",
    "import torch\n",
    "from dataset import FaceData\n",
    "\n",
    "from torch.utils.data import DataLoader\n",
    "from torchvision.utils import save_image\n",
    "from tqdm import tqdm\n",
    "\n",
    "import matplotlib.pyplot as plt\n",
    "import numpy as np\n",
    "from PIL import Image\n",
    "import torchvision.transforms as T"
   ]
  },
  {
   "cell_type": "code",
   "execution_count": 2,
   "metadata": {},
   "outputs": [
    {
     "output_type": "execute_result",
     "data": {
      "text/plain": "Generator(\n  (conv1): Conv2d(3, 64, kernel_size=(9, 9), stride=(1, 1), padding=(4, 4))\n  (B_conv): Conv2d(64, 64, kernel_size=(3, 3), stride=(1, 1), padding=(1, 1))\n  (B_bn): BatchNorm2d(64, eps=1e-05, momentum=0.1, affine=True, track_running_stats=True)\n  (P_conv): Conv2d(64, 256, kernel_size=(3, 3), stride=(1, 1), padding=(1, 1))\n  (pix_shuffle): PixelShuffle(upscale_factor=2)\n  (conv2): Conv2d(64, 3, kernel_size=(9, 9), stride=(1, 1), padding=(4, 4))\n)"
     },
     "metadata": {},
     "execution_count": 2
    }
   ],
   "source": [
    "get_G = model.Generator()\n",
    "get_G"
   ]
  },
  {
   "cell_type": "code",
   "execution_count": 3,
   "metadata": {},
   "outputs": [
    {
     "output_type": "error",
     "ename": "RuntimeError",
     "evalue": "Expected self.is_cuda() to be true, but got false.  (Could this error message be improved?  If so, please report an enhancement request to PyTorch.)",
     "traceback": [
      "\u001b[1;31m---------------------------------------------------------------------------\u001b[0m",
      "\u001b[1;31mRuntimeError\u001b[0m                              Traceback (most recent call last)",
      "\u001b[1;32m&lt;ipython-input-3-6d329b10648b&gt;\u001b[0m in \u001b[0;36m&lt;module&gt;\u001b[1;34m\u001b[0m\n\u001b[0;32m      1\u001b[0m \u001b[0mx\u001b[0m \u001b[1;33m=\u001b[0m \u001b[0mtorch\u001b[0m\u001b[1;33m.\u001b[0m\u001b[0mrandn\u001b[0m\u001b[1;33m(\u001b[0m\u001b[1;36m10\u001b[0m\u001b[1;33m,\u001b[0m \u001b[1;36m3\u001b[0m\u001b[1;33m,\u001b[0m \u001b[1;36m16\u001b[0m\u001b[1;33m,\u001b[0m \u001b[1;36m16\u001b[0m\u001b[1;33m)\u001b[0m\u001b[1;33m\u001b[0m\u001b[1;33m\u001b[0m\u001b[0m\n\u001b[1;32m----&gt; 2\u001b[1;33m \u001b[0mout_G\u001b[0m \u001b[1;33m=\u001b[0m \u001b[0mget_G\u001b[0m\u001b[1;33m.\u001b[0m\u001b[0mforward\u001b[0m\u001b[1;33m(\u001b[0m\u001b[0mx\u001b[0m\u001b[1;33m)\u001b[0m\u001b[1;33m\u001b[0m\u001b[1;33m\u001b[0m\u001b[0m\n\u001b[0m",
      "\u001b[1;32mc:\\Users\\ZLKHZON\\Desktop\\pytorch\\SRGAN\\model.py\u001b[0m in \u001b[0;36mforward\u001b[1;34m(self, x)\u001b[0m\n\u001b[0;32m     22\u001b[0m     \u001b[1;32mdef\u001b[0m \u001b[0mforward\u001b[0m\u001b[1;33m(\u001b[0m\u001b[0mself\u001b[0m\u001b[1;33m,\u001b[0m \u001b[0mx\u001b[0m\u001b[1;33m)\u001b[0m\u001b[1;33m:\u001b[0m\u001b[1;33m\u001b[0m\u001b[1;33m\u001b[0m\u001b[0m\n\u001b[0;32m     23\u001b[0m         \u001b[0mx\u001b[0m \u001b[1;33m=\u001b[0m \u001b[0mself\u001b[0m\u001b[1;33m.\u001b[0m\u001b[0mconv1\u001b[0m\u001b[1;33m(\u001b[0m\u001b[0mx\u001b[0m\u001b[1;33m)\u001b[0m\u001b[1;33m\u001b[0m\u001b[1;33m\u001b[0m\u001b[0m\n\u001b[1;32m---&gt; 24\u001b[1;33m         \u001b[0mx\u001b[0m \u001b[1;33m=\u001b[0m \u001b[0mnn\u001b[0m\u001b[1;33m.\u001b[0m\u001b[0mPReLU\u001b[0m\u001b[1;33m(\u001b[0m\u001b[1;33m)\u001b[0m\u001b[1;33m.\u001b[0m\u001b[0mcuda\u001b[0m\u001b[1;33m(\u001b[0m\u001b[1;33m)\u001b[0m\u001b[1;33m(\u001b[0m\u001b[0mx\u001b[0m\u001b[1;33m)\u001b[0m\u001b[1;33m\u001b[0m\u001b[1;33m\u001b[0m\u001b[0m\n\u001b[0m\u001b[0;32m     25\u001b[0m         \u001b[0mfx\u001b[0m \u001b[1;33m=\u001b[0m \u001b[0mx\u001b[0m\u001b[1;33m\u001b[0m\u001b[1;33m\u001b[0m\u001b[0m\n\u001b[0;32m     26\u001b[0m         \u001b[0mtx\u001b[0m \u001b[1;33m=\u001b[0m \u001b[0mx\u001b[0m\u001b[1;33m\u001b[0m\u001b[1;33m\u001b[0m\u001b[0m\n",
      "\u001b[1;32m~\\Anaconda3\\envs\\torch37\\lib\\site-packages\\torch\\nn\\modules\\module.py\u001b[0m in \u001b[0;36m_call_impl\u001b[1;34m(self, *input, **kwargs)\u001b[0m\n\u001b[0;32m    720\u001b[0m             \u001b[0mresult\u001b[0m \u001b[1;33m=\u001b[0m \u001b[0mself\u001b[0m\u001b[1;33m.\u001b[0m\u001b[0m_slow_forward\u001b[0m\u001b[1;33m(\u001b[0m\u001b[1;33m*\u001b[0m\u001b[0minput\u001b[0m\u001b[1;33m,\u001b[0m \u001b[1;33m**\u001b[0m\u001b[0mkwargs\u001b[0m\u001b[1;33m)\u001b[0m\u001b[1;33m\u001b[0m\u001b[1;33m\u001b[0m\u001b[0m\n\u001b[0;32m    721\u001b[0m         \u001b[1;32melse\u001b[0m\u001b[1;33m:\u001b[0m\u001b[1;33m\u001b[0m\u001b[1;33m\u001b[0m\u001b[0m\n\u001b[1;32m--&gt; 722\u001b[1;33m             \u001b[0mresult\u001b[0m \u001b[1;33m=\u001b[0m \u001b[0mself\u001b[0m\u001b[1;33m.\u001b[0m\u001b[0mforward\u001b[0m\u001b[1;33m(\u001b[0m\u001b[1;33m*\u001b[0m\u001b[0minput\u001b[0m\u001b[1;33m,\u001b[0m \u001b[1;33m**\u001b[0m\u001b[0mkwargs\u001b[0m\u001b[1;33m)\u001b[0m\u001b[1;33m\u001b[0m\u001b[1;33m\u001b[0m\u001b[0m\n\u001b[0m\u001b[0;32m    723\u001b[0m         for hook in itertools.chain(\n\u001b[0;32m    724\u001b[0m                 \u001b[0m_global_forward_hooks\u001b[0m\u001b[1;33m.\u001b[0m\u001b[0mvalues\u001b[0m\u001b[1;33m(\u001b[0m\u001b[1;33m)\u001b[0m\u001b[1;33m,\u001b[0m\u001b[1;33m\u001b[0m\u001b[1;33m\u001b[0m\u001b[0m\n",
      "\u001b[1;32m~\\Anaconda3\\envs\\torch37\\lib\\site-packages\\torch\\nn\\modules\\activation.py\u001b[0m in \u001b[0;36mforward\u001b[1;34m(self, input)\u001b[0m\n\u001b[0;32m    986\u001b[0m \u001b[1;33m\u001b[0m\u001b[0m\n\u001b[0;32m    987\u001b[0m     \u001b[1;32mdef\u001b[0m \u001b[0mforward\u001b[0m\u001b[1;33m(\u001b[0m\u001b[0mself\u001b[0m\u001b[1;33m,\u001b[0m \u001b[0minput\u001b[0m\u001b[1;33m:\u001b[0m \u001b[0mTensor\u001b[0m\u001b[1;33m)\u001b[0m \u001b[1;33m-&gt;\u001b[0m \u001b[0mTensor\u001b[0m\u001b[1;33m:\u001b[0m\u001b[1;33m\u001b[0m\u001b[1;33m\u001b[0m\u001b[0m\n\u001b[1;32m--&gt; 988\u001b[1;33m         \u001b[1;32mreturn\u001b[0m \u001b[0mF\u001b[0m\u001b[1;33m.\u001b[0m\u001b[0mprelu\u001b[0m\u001b[1;33m(\u001b[0m\u001b[0minput\u001b[0m\u001b[1;33m,\u001b[0m \u001b[0mself\u001b[0m\u001b[1;33m.\u001b[0m\u001b[0mweight\u001b[0m\u001b[1;33m)\u001b[0m\u001b[1;33m\u001b[0m\u001b[1;33m\u001b[0m\u001b[0m\n\u001b[0m\u001b[0;32m    989\u001b[0m \u001b[1;33m\u001b[0m\u001b[0m\n\u001b[0;32m    990\u001b[0m     \u001b[1;32mdef\u001b[0m \u001b[0mextra_repr\u001b[0m\u001b[1;33m(\u001b[0m\u001b[0mself\u001b[0m\u001b[1;33m)\u001b[0m \u001b[1;33m-&gt;\u001b[0m \u001b[0mstr\u001b[0m\u001b[1;33m:\u001b[0m\u001b[1;33m\u001b[0m\u001b[1;33m\u001b[0m\u001b[0m\n",
      "\u001b[1;32m~\\Anaconda3\\envs\\torch37\\lib\\site-packages\\torch\\nn\\functional.py\u001b[0m in \u001b[0;36mprelu\u001b[1;34m(input, weight)\u001b[0m\n\u001b[0;32m   1317\u001b[0m         \u001b[1;32mif\u001b[0m \u001b[0mtype\u001b[0m\u001b[1;33m(\u001b[0m\u001b[0minput\u001b[0m\u001b[1;33m)\u001b[0m \u001b[1;32mis\u001b[0m \u001b[1;32mnot\u001b[0m \u001b[0mTensor\u001b[0m \u001b[1;32mand\u001b[0m \u001b[0mhas_torch_function\u001b[0m\u001b[1;33m(\u001b[0m\u001b[1;33m(\u001b[0m\u001b[0minput\u001b[0m\u001b[1;33m,\u001b[0m\u001b[1;33m)\u001b[0m\u001b[1;33m)\u001b[0m\u001b[1;33m:\u001b[0m\u001b[1;33m\u001b[0m\u001b[1;33m\u001b[0m\u001b[0m\n\u001b[0;32m   1318\u001b[0m             \u001b[1;32mreturn\u001b[0m \u001b[0mhandle_torch_function\u001b[0m\u001b[1;33m(\u001b[0m\u001b[0mprelu\u001b[0m\u001b[1;33m,\u001b[0m \u001b[1;33m(\u001b[0m\u001b[0minput\u001b[0m\u001b[1;33m,\u001b[0m\u001b[1;33m)\u001b[0m\u001b[1;33m,\u001b[0m \u001b[0minput\u001b[0m\u001b[1;33m,\u001b[0m \u001b[0mweight\u001b[0m\u001b[1;33m)\u001b[0m\u001b[1;33m\u001b[0m\u001b[1;33m\u001b[0m\u001b[0m\n\u001b[1;32m-&gt; 1319\u001b[1;33m     \u001b[1;32mreturn\u001b[0m \u001b[0mtorch\u001b[0m\u001b[1;33m.\u001b[0m\u001b[0mprelu\u001b[0m\u001b[1;33m(\u001b[0m\u001b[0minput\u001b[0m\u001b[1;33m,\u001b[0m \u001b[0mweight\u001b[0m\u001b[1;33m)\u001b[0m\u001b[1;33m\u001b[0m\u001b[1;33m\u001b[0m\u001b[0m\n\u001b[0m\u001b[0;32m   1320\u001b[0m \u001b[1;33m\u001b[0m\u001b[0m\n\u001b[0;32m   1321\u001b[0m \u001b[1;33m\u001b[0m\u001b[0m\n",
      "\u001b[1;31mRuntimeError\u001b[0m: Expected self.is_cuda() to be true, but got false.  (Could this error message be improved?  If so, please report an enhancement request to PyTorch.)"
     ]
    }
   ],
   "source": [
    "x = torch.randn(10, 3, 16, 16)\n",
    "out_G = get_G.forward(x)"
   ]
  },
  {
   "cell_type": "code",
   "execution_count": null,
   "metadata": {},
   "outputs": [],
   "source": [
    "out_G.size()"
   ]
  },
  {
   "cell_type": "code",
   "execution_count": null,
   "metadata": {},
   "outputs": [],
   "source": [
    "get_D = model.Discriminator()\n",
    "get_D"
   ]
  },
  {
   "cell_type": "code",
   "execution_count": null,
   "metadata": {},
   "outputs": [],
   "source": [
    "out_D = get_D.forward(out_G)"
   ]
  },
  {
   "cell_type": "code",
   "execution_count": null,
   "metadata": {},
   "outputs": [],
   "source": [
    "out_D.size()"
   ]
  },
  {
   "source": [
    "# Cuda Test"
   ],
   "cell_type": "markdown",
   "metadata": {}
  },
  {
   "cell_type": "code",
   "execution_count": 9,
   "metadata": {},
   "outputs": [
    {
     "output_type": "execute_result",
     "data": {
      "text/plain": "True"
     },
     "metadata": {},
     "execution_count": 9
    }
   ],
   "source": [
    "torch.cuda.is_available()"
   ]
  },
  {
   "cell_type": "code",
   "execution_count": 10,
   "metadata": {},
   "outputs": [],
   "source": [
    "cuda_G = model.Generator().cuda()"
   ]
  },
  {
   "cell_type": "code",
   "execution_count": 11,
   "metadata": {},
   "outputs": [
    {
     "output_type": "execute_result",
     "data": {
      "text/plain": "tensor([[[[-9.5228e-03, -1.3657e-02, -3.6912e-03,  ..., -6.2684e-03,\n           -7.3542e-03, -2.4957e-03],\n          [ 4.3658e-03, -4.2503e-03, -6.9079e-03,  ..., -1.0961e-02,\n            4.5708e-04, -1.2910e-02],\n          [-2.1384e-02, -5.8208e-03, -2.1159e-02,  ..., -2.2907e-02,\n           -1.2589e-02, -1.1094e-02],\n          ...,\n          [ 5.2339e-03,  1.0056e-03, -1.2934e-03,  ...,  2.1584e-02,\n           -1.1048e-02, -1.7016e-03],\n          [-7.8782e-03,  3.2981e-03, -1.2929e-02,  ..., -7.0082e-03,\n           -1.7037e-02, -6.2408e-03],\n          [-3.7661e-03,  7.0727e-03, -4.1431e-03,  ...,  1.9521e-02,\n           -1.5114e-02,  1.2459e-04]],\n\n         [[-5.6698e-03, -1.2263e-02, -6.7894e-03,  ..., -1.4581e-02,\n           -2.6945e-03,  2.4715e-03],\n          [-3.1984e-02, -3.2948e-02, -3.0474e-02,  ..., -2.1047e-03,\n           -7.4019e-03, -6.9575e-05],\n          [ 3.0150e-03, -5.7749e-03,  1.2309e-02,  ..., -8.0176e-03,\n            1.0936e-02,  1.2146e-03],\n          ...,\n          [-8.4724e-03, -7.9181e-03, -1.0323e-02,  ..., -5.7683e-03,\n           -1.8298e-02,  9.5563e-04],\n          [-3.1897e-03,  5.2086e-04,  7.8456e-03,  ..., -1.2818e-02,\n            1.8452e-02, -6.5659e-03],\n          [-1.2635e-02, -1.3863e-02, -1.3649e-02,  ..., -1.0055e-02,\n           -1.5623e-02,  5.1587e-03]],\n\n         [[ 2.0241e-02,  4.1510e-03,  2.3374e-02,  ...,  1.3533e-02,\n            3.1531e-02,  2.3329e-02],\n          [ 1.1616e-02,  1.9528e-02,  1.0051e-02,  ...,  9.7150e-03,\n            1.3203e-02,  4.3263e-03],\n          [ 3.9326e-02,  2.5606e-02,  2.3373e-02,  ...,  1.4092e-02,\n            3.2940e-02,  1.5816e-02],\n          ...,\n          [ 1.3876e-02,  2.1246e-02,  7.6386e-03,  ...,  1.8894e-02,\n            1.7088e-02,  1.8554e-02],\n          [ 1.7329e-02,  1.0753e-02,  1.2626e-02,  ...,  1.0433e-02,\n            3.0237e-02,  1.3610e-02],\n          [ 1.1614e-02,  1.6407e-02,  3.3864e-02,  ...,  3.9159e-02,\n            1.1166e-02,  3.2561e-03]]],\n\n\n        [[[-1.2910e-02, -9.7401e-03,  4.7078e-06,  ..., -1.0982e-02,\n           -1.2182e-02,  1.7621e-04],\n          [ 3.8844e-03, -3.4200e-03, -3.0605e-03,  ..., -2.2187e-02,\n            5.4849e-03, -1.1090e-02],\n          [-2.0255e-02, -5.5663e-03, -2.0407e-02,  ..., -1.4201e-02,\n            1.3893e-03,  5.1663e-03],\n          ...,\n          [-5.7669e-04, -5.6006e-03, -3.9649e-03,  ...,  1.5239e-02,\n           -1.5323e-02,  5.2150e-03],\n          [ 2.5850e-04, -1.4770e-02, -2.0162e-02,  ..., -4.6729e-03,\n           -1.9320e-03, -1.9085e-02],\n          [-7.2057e-03,  8.1823e-03, -2.3628e-02,  ...,  8.1770e-03,\n           -8.5884e-03, -6.4419e-03]],\n\n         [[-5.6314e-03, -1.2295e-03, -2.2824e-03,  ..., -1.7663e-02,\n           -9.5835e-03, -4.1380e-03],\n          [-1.8553e-02, -1.9607e-02, -1.1116e-02,  ..., -1.6457e-02,\n           -1.5503e-03, -1.2184e-02],\n          [-8.0493e-03,  6.2336e-03,  2.0378e-03,  ..., -1.7651e-02,\n           -1.3432e-03,  1.0699e-03],\n          ...,\n          [ 7.8862e-03, -2.5818e-02, -7.8206e-03,  ..., -4.2351e-03,\n            2.5549e-03, -9.3589e-03],\n          [ 6.5762e-03, -3.8763e-03,  1.4795e-02,  ..., -8.9655e-03,\n            4.4047e-03, -7.8281e-03],\n          [-3.0692e-03, -8.4128e-03, -1.1363e-02,  ...,  3.0017e-04,\n           -1.2770e-02,  6.3541e-03]],\n\n         [[ 1.0691e-02,  4.8797e-03,  1.4347e-02,  ...,  1.5665e-02,\n            3.6099e-02,  1.9272e-02],\n          [ 7.9153e-03,  1.9559e-03,  1.6215e-02,  ...,  1.4823e-02,\n            1.4410e-02,  1.4639e-02],\n          [ 2.2013e-02,  2.0759e-02,  2.6832e-02,  ...,  2.2829e-02,\n            3.6118e-02,  1.2385e-02],\n          ...,\n          [ 2.2312e-02,  2.7916e-02,  1.5981e-02,  ...,  1.3751e-02,\n            1.1709e-02,  2.5953e-02],\n          [ 1.9746e-02,  1.2092e-02,  2.4320e-02,  ...,  9.0623e-03,\n            3.4679e-02,  9.6059e-03],\n          [ 2.8196e-02,  1.2099e-02,  2.9829e-02,  ...,  3.8049e-02,\n            1.6158e-02,  9.3631e-03]]],\n\n\n        [[[-1.0057e-02, -4.3396e-04, -5.3563e-03,  ..., -4.8088e-03,\n           -1.4449e-02, -4.5749e-03],\n          [ 2.7236e-03, -1.0924e-02,  8.0359e-03,  ..., -6.1472e-03,\n            9.4212e-03, -7.6043e-03],\n          [-8.5961e-03, -1.4688e-02, -3.1731e-02,  ..., -1.3675e-02,\n           -2.2438e-02, -5.2199e-03],\n          ...,\n          [-1.0602e-02,  1.1197e-02,  6.4429e-03,  ..., -2.3349e-03,\n           -9.0826e-03,  1.0107e-02],\n          [-1.5375e-02,  3.8787e-03, -2.2724e-02,  ...,  5.7488e-03,\n           -1.8842e-02, -2.0442e-02],\n          [-2.2725e-02,  6.4244e-03, -1.6512e-02,  ...,  8.9025e-03,\n           -6.9225e-03,  1.2265e-03]],\n\n         [[-4.0855e-03, -2.9440e-03,  1.3708e-03,  ..., -7.4571e-03,\n           -1.5286e-02,  2.6953e-03],\n          [-2.2917e-02, -2.5987e-02, -3.6778e-02,  ..., -7.9586e-03,\n            1.3097e-02, -2.0413e-02],\n          [-7.6301e-03, -1.1689e-04,  1.0117e-02,  ..., -1.5521e-02,\n            1.7035e-02, -6.2253e-03],\n          ...,\n          [-6.1734e-03, -2.2112e-02, -8.6295e-03,  ...,  2.1339e-03,\n            9.1530e-03,  1.5892e-03],\n          [ 1.2724e-02, -1.2666e-03,  5.1251e-03,  ..., -2.1331e-02,\n            9.1816e-04, -1.1418e-02],\n          [-9.9456e-03, -1.9039e-02, -8.5031e-03,  ..., -5.1585e-03,\n           -2.2389e-02,  5.9060e-03]],\n\n         [[ 1.6121e-02,  6.9405e-03,  2.0673e-02,  ...,  2.0085e-02,\n            2.0264e-02,  2.4797e-02],\n          [ 1.5739e-02,  1.4642e-02,  1.1258e-03,  ...,  2.1592e-02,\n            1.7988e-02, -7.4951e-04],\n          [ 2.8585e-02,  1.3050e-02,  2.3939e-02,  ...,  2.5142e-02,\n            2.7286e-02,  2.6575e-02],\n          ...,\n          [ 2.0618e-02,  1.5707e-02,  9.1892e-03,  ...,  2.8862e-02,\n            2.9558e-02,  1.9764e-02],\n          [ 1.9075e-03,  1.0167e-02,  1.3176e-02,  ...,  1.0688e-02,\n            3.9877e-02,  2.0065e-02],\n          [ 3.1171e-02,  1.1641e-02,  1.7685e-02,  ...,  2.9025e-02,\n            2.1598e-02, -6.2442e-03]]],\n\n\n        ...,\n\n\n        [[[-1.7148e-02, -3.4457e-02, -6.4643e-03,  ..., -1.3951e-02,\n           -8.1217e-03,  7.8827e-04],\n          [ 3.2409e-03, -1.7839e-02,  4.4866e-03,  ..., -1.1511e-02,\n            9.3341e-04,  7.2310e-03],\n          [-3.3725e-03, -2.4742e-03,  1.6807e-03,  ..., -2.8769e-02,\n            3.4749e-03, -3.7271e-03],\n          ...,\n          [ 1.7954e-02,  3.7865e-04, -4.1979e-03,  ..., -5.4161e-03,\n           -1.2637e-02,  1.3864e-02],\n          [-1.4260e-02,  1.4329e-03, -1.4674e-02,  ..., -3.6531e-03,\n           -2.2634e-03, -2.1103e-02],\n          [-1.8669e-02,  8.1583e-03, -1.8473e-02,  ...,  1.7829e-02,\n           -1.1605e-02, -3.6135e-03]],\n\n         [[-9.1536e-04, -1.1219e-03,  6.0782e-03,  ..., -7.4961e-03,\n           -8.4208e-03, -6.7667e-05],\n          [-1.0160e-02, -1.6574e-02, -2.7039e-02,  ..., -1.2360e-02,\n           -5.2495e-03, -1.1902e-02],\n          [-2.1519e-02, -2.4314e-03, -1.5356e-03,  ..., -6.5738e-03,\n            1.0975e-02, -5.9487e-03],\n          ...,\n          [-1.2625e-02, -1.6247e-02, -1.3430e-03,  ..., -1.6288e-02,\n            3.2597e-03,  9.3739e-03],\n          [ 5.6010e-03, -1.4931e-02,  6.3476e-03,  ..., -1.2486e-02,\n            6.0548e-03, -1.7195e-02],\n          [-8.0265e-03, -2.3417e-02,  1.7137e-03,  ..., -3.3169e-03,\n           -1.2389e-02,  9.1931e-03]],\n\n         [[ 8.0087e-03,  3.6965e-03,  1.3107e-02,  ...,  2.5906e-02,\n            1.9150e-02,  1.9726e-02],\n          [ 2.0055e-03,  4.6175e-03,  3.0770e-03,  ...,  2.9296e-02,\n            1.5825e-03,  1.9065e-02],\n          [ 1.8912e-02,  4.0691e-02,  1.6943e-02,  ...,  1.5549e-02,\n            3.7470e-02,  3.0762e-02],\n          ...,\n          [ 1.3823e-02,  1.1812e-02,  1.8569e-02,  ...,  2.9019e-02,\n            1.6409e-02,  1.5602e-02],\n          [ 2.7754e-02,  5.0521e-03,  9.3395e-03,  ...,  1.9098e-02,\n            2.6588e-02,  2.8725e-02],\n          [ 1.5360e-02,  2.9097e-03,  2.9913e-02,  ...,  1.8891e-02,\n            2.2545e-02,  6.9181e-03]]],\n\n\n        [[[-1.3033e-02, -1.8484e-02, -9.0456e-03,  ..., -1.7047e-02,\n           -7.5228e-04, -5.2623e-03],\n          [ 2.5442e-03, -6.2304e-03,  1.2572e-02,  ..., -6.5556e-03,\n           -3.8968e-03,  4.7053e-03],\n          [-1.5203e-02, -2.2625e-02, -1.6974e-02,  ..., -2.4349e-02,\n           -8.5114e-03, -5.1941e-03],\n          ...,\n          [ 5.7720e-03,  4.2823e-03,  8.9011e-04,  ...,  1.4829e-02,\n           -2.4318e-02,  1.5506e-02],\n          [-1.2970e-02,  6.4759e-04, -1.2703e-02,  ...,  4.5527e-03,\n           -1.2229e-02, -2.8444e-02],\n          [-8.6047e-03,  4.2804e-03, -4.0996e-03,  ...,  4.5524e-03,\n           -2.2671e-02,  5.1915e-04]],\n\n         [[-2.4258e-03, -6.1056e-03,  3.1378e-03,  ..., -1.8028e-02,\n           -1.0798e-02,  4.6302e-03],\n          [-1.8097e-02, -1.8223e-02, -2.4232e-02,  ..., -4.0122e-03,\n           -3.9998e-04, -1.3650e-02],\n          [ 3.0730e-04, -1.8375e-03,  6.6757e-03,  ..., -1.1551e-02,\n           -5.1211e-03,  4.2026e-03],\n          ...,\n          [-6.9602e-03, -2.0139e-02,  9.2330e-03,  ..., -9.0628e-03,\n            3.7103e-03,  3.7941e-03],\n          [ 8.8245e-03, -1.5582e-02,  5.6478e-04,  ...,  4.5964e-03,\n            1.5301e-02, -1.4225e-02],\n          [-1.3742e-02, -1.3910e-02, -7.1392e-03,  ..., -1.0197e-02,\n           -2.2939e-02,  1.0617e-02]],\n\n         [[ 2.5621e-02,  7.2944e-03,  1.4536e-02,  ...,  2.2048e-02,\n            1.3910e-02,  2.7487e-02],\n          [ 1.9204e-02,  6.3304e-03, -3.1575e-03,  ...,  3.7405e-02,\n            1.0208e-02,  1.7285e-02],\n          [ 2.4812e-02,  2.3877e-02,  3.9542e-02,  ...,  1.9845e-02,\n            4.1645e-02,  4.7833e-03],\n          ...,\n          [ 2.3431e-02,  9.9650e-03,  3.2416e-03,  ...,  2.0001e-02,\n            2.4340e-02,  3.6545e-02],\n          [ 1.9137e-02,  1.6475e-02,  1.8700e-02,  ...,  2.2477e-02,\n            2.2180e-02,  3.4191e-02],\n          [ 1.7534e-02,  2.2374e-02,  2.3227e-02,  ...,  3.0276e-02,\n            1.7072e-02,  1.7672e-03]]],\n\n\n        [[[-1.2475e-02, -2.0676e-02, -1.7742e-02,  ...,  5.5119e-03,\n           -1.2829e-02,  9.2486e-03],\n          [ 3.2008e-03, -1.4672e-03,  1.5329e-03,  ..., -1.7145e-02,\n            1.9195e-03,  1.7850e-04],\n          [-2.0902e-02, -4.2816e-03, -1.4814e-02,  ..., -2.4798e-02,\n           -1.0185e-02, -5.4319e-03],\n          ...,\n          [ 1.4166e-02, -1.1347e-02, -7.7028e-03,  ..., -2.0942e-04,\n            2.9064e-03,  6.0779e-03],\n          [-1.0034e-02,  1.0870e-03, -3.4513e-02,  ..., -7.0398e-03,\n           -1.4980e-02, -1.0863e-02],\n          [-1.3635e-02, -1.0557e-03, -1.7866e-02,  ...,  1.6991e-02,\n           -8.6472e-03,  5.0050e-03]],\n\n         [[-8.6506e-03,  2.4617e-03, -2.5809e-03,  ..., -1.1370e-02,\n           -9.6220e-03,  1.0952e-03],\n          [-2.7112e-02, -1.9605e-02, -2.2241e-02,  ..., -1.6288e-02,\n            1.8936e-03, -1.3773e-02],\n          [-7.3587e-03,  1.8339e-03,  5.3605e-04,  ..., -1.0238e-02,\n            5.5820e-03,  2.9721e-03],\n          ...,\n          [-1.1368e-02, -3.1579e-02, -2.4911e-02,  ..., -1.0468e-02,\n           -2.6429e-03, -7.1078e-03],\n          [ 4.4958e-03, -4.9685e-03,  1.8389e-03,  ..., -1.1184e-02,\n            2.6244e-03, -9.0777e-03],\n          [-9.8626e-03, -1.5648e-02, -7.4199e-03,  ..., -1.6095e-03,\n           -5.8634e-03,  4.1434e-03]],\n\n         [[ 1.9318e-02,  5.2300e-03,  1.0879e-02,  ...,  1.8339e-02,\n            3.3636e-02,  1.4304e-02],\n          [-2.8275e-03,  1.9353e-02,  5.0983e-03,  ...,  1.4260e-02,\n            1.4612e-02,  1.8433e-02],\n          [ 2.0174e-02,  2.3163e-02,  3.9549e-02,  ...,  3.5677e-03,\n            4.0851e-02,  3.0991e-02],\n          ...,\n          [ 2.5622e-02,  3.5034e-02,  2.1224e-02,  ...,  1.3477e-02,\n            5.2053e-03,  1.5353e-02],\n          [ 6.9511e-03,  1.6673e-02,  1.6736e-02,  ...,  1.7478e-02,\n            3.9500e-02,  2.5504e-02],\n          [ 2.5038e-02,  1.0104e-02,  2.5474e-02,  ...,  3.0069e-02,\n            2.3896e-02,  9.7939e-04]]]], device=&#39;cuda:0&#39;,\n       grad_fn=&lt;AddBackward0&gt;)"
     },
     "metadata": {},
     "execution_count": 11
    }
   ],
   "source": [
    "cuda_G.forward(x.cuda())"
   ]
  },
  {
   "cell_type": "code",
   "execution_count": null,
   "metadata": {},
   "outputs": [],
   "source": [
    "import torch.nn as nn"
   ]
  },
  {
   "cell_type": "code",
   "execution_count": null,
   "metadata": {},
   "outputs": [],
   "source": [
    "nn.PReLU().cuda()(x.cuda())"
   ]
  },
  {
   "cell_type": "code",
   "execution_count": null,
   "metadata": {},
   "outputs": [],
   "source": []
  },
  {
   "source": [
    "# Face Data Load"
   ],
   "cell_type": "markdown",
   "metadata": {}
  },
  {
   "cell_type": "code",
   "execution_count": null,
   "metadata": {},
   "outputs": [],
   "source": [
    "batch_size = 8\n",
    "dataset = FaceData('train')"
   ]
  },
  {
   "cell_type": "code",
   "execution_count": null,
   "metadata": {},
   "outputs": [],
   "source": [
    "data_loader = DataLoader(dataset, batch_size, shuffle=True, num_workers=0, pin_memory=True, drop_last=True)"
   ]
  },
  {
   "cell_type": "code",
   "execution_count": null,
   "metadata": {},
   "outputs": [],
   "source": [
    "x, y = iter(data_loader).next()"
   ]
  },
  {
   "cell_type": "code",
   "execution_count": null,
   "metadata": {},
   "outputs": [],
   "source": [
    "x.size()"
   ]
  },
  {
   "cell_type": "code",
   "execution_count": null,
   "metadata": {},
   "outputs": [],
   "source": [
    "y.size()"
   ]
  },
  {
   "cell_type": "code",
   "execution_count": null,
   "metadata": {},
   "outputs": [],
   "source": [
    "np"
   ]
  },
  {
   "cell_type": "code",
   "execution_count": null,
   "metadata": {},
   "outputs": [],
   "source": [
    "x.permute(0,2,3,1).shape"
   ]
  },
  {
   "cell_type": "code",
   "execution_count": null,
   "metadata": {},
   "outputs": [],
   "source": [
    "x.size()"
   ]
  },
  {
   "cell_type": "code",
   "execution_count": null,
   "metadata": {
    "tags": []
   },
   "outputs": [],
   "source": [
    "plt.imshow(x.permute(0,2,3,1)[0])"
   ]
  },
  {
   "cell_type": "code",
   "execution_count": null,
   "metadata": {},
   "outputs": [],
   "source": [
    "img = Image.open(\"./trainData/input/0.png\").convert(\"RGB\")"
   ]
  },
  {
   "cell_type": "code",
   "execution_count": null,
   "metadata": {},
   "outputs": [],
   "source": [
    "plt.imshow(np.array(img))"
   ]
  },
  {
   "cell_type": "code",
   "execution_count": null,
   "metadata": {},
   "outputs": [],
   "source": [
    "trans = T.Compose([\n",
    "            T.ToTensor(),\n",
    "            T.Normalize((0.5, 0.5, 0.5), (0.5, 0.5, 0.5))\n",
    "        ])"
   ]
  },
  {
   "cell_type": "code",
   "execution_count": null,
   "metadata": {
    "tags": []
   },
   "outputs": [],
   "source": [
    "trans_img = trans(img)\n",
    "print(trans_img.size())\n",
    "print(trans_img)"
   ]
  },
  {
   "cell_type": "code",
   "execution_count": null,
   "metadata": {
    "tags": []
   },
   "outputs": [],
   "source": [
    "plt.imshow(np.ceil(np.transpose((trans_img/2+0.5).numpy(), (1,2,0))*255).astype(int))"
   ]
  },
  {
   "cell_type": "code",
   "execution_count": null,
   "metadata": {
    "tags": []
   },
   "outputs": [],
   "source": [
    "plt.imshow(np.transpose((trans_img/2+0.5).numpy(), (1,2,0)))"
   ]
  },
  {
   "cell_type": "code",
   "execution_count": null,
   "metadata": {
    "tags": []
   },
   "outputs": [],
   "source": [
    "plt.imshow(trans_img.permute(1,2,0))"
   ]
  },
  {
   "cell_type": "code",
   "execution_count": null,
   "metadata": {},
   "outputs": [],
   "source": [
    "def denorm(x):\n",
    "    out = (x + 1) / 2\n",
    "    return out.clamp(0, 1)"
   ]
  },
  {
   "cell_type": "code",
   "execution_count": null,
   "metadata": {},
   "outputs": [],
   "source": [
    "denorm(trans(img))"
   ]
  },
  {
   "cell_type": "code",
   "execution_count": null,
   "metadata": {},
   "outputs": [],
   "source": [
    "save_image(denorm(trans(img)), './sample.png')"
   ]
  },
  {
   "cell_type": "code",
   "execution_count": null,
   "metadata": {},
   "outputs": [],
   "source": []
  }
 ]
}